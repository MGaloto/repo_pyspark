{
 "cells": [
  {
   "cell_type": "code",
   "execution_count": 27,
   "id": "affc6b4d-2491-47f2-83a6-5eb8c73bbde0",
   "metadata": {},
   "outputs": [],
   "source": [
    "from datetime import datetime, timedelta\n",
    "\n",
    "from pythondate import date"
   ]
  },
  {
   "cell_type": "code",
   "execution_count": 28,
   "id": "40f88b28-1472-4ae6-b8e6-9b8f06b9169d",
   "metadata": {},
   "outputs": [
    {
     "data": {
      "text/plain": [
       "['https://importantdata@location/2021/05/01/',\n",
       " 'https://importantdata@location/2021/05/02/',\n",
       " 'https://importantdata@location/2021/05/03/',\n",
       " 'https://importantdata@location/2021/05/04/',\n",
       " 'https://importantdata@location/2021/05/05/',\n",
       " 'https://importantdata@location/2021/05/06/',\n",
       " 'https://importantdata@location/2021/05/07/',\n",
       " 'https://importantdata@location/2021/05/08/',\n",
       " 'https://importantdata@location/2021/05/09/',\n",
       " 'https://importantdata@location/2021/05/10/',\n",
       " 'https://importantdata@location/2021/05/11/',\n",
       " 'https://importantdata@location/2021/05/12/',\n",
       " 'https://importantdata@location/2021/05/13/',\n",
       " 'https://importantdata@location/2021/05/14/',\n",
       " 'https://importantdata@location/2021/05/15/',\n",
       " 'https://importantdata@location/2021/05/16/',\n",
       " 'https://importantdata@location/2021/05/17/']"
      ]
     },
     "execution_count": 28,
     "metadata": {},
     "output_type": "execute_result"
    }
   ],
   "source": [
    "date.generateMonthlyPathList(\"2021\", \"05\", \"17\")"
   ]
  },
  {
   "cell_type": "code",
   "execution_count": 29,
   "id": "c96d4b8f-a115-48ca-9927-50a0adf9b648",
   "metadata": {},
   "outputs": [
    {
     "name": "stdout",
     "output_type": "stream",
     "text": [
      "20210410\n"
     ]
    },
    {
     "data": {
      "text/plain": [
       "['https://importantdata@location/2021/04/01/',\n",
       " 'https://importantdata@location/2021/04/02/',\n",
       " 'https://importantdata@location/2021/04/03/',\n",
       " 'https://importantdata@location/2021/04/04/',\n",
       " 'https://importantdata@location/2021/04/05/',\n",
       " 'https://importantdata@location/2021/04/06/',\n",
       " 'https://importantdata@location/2021/04/07/',\n",
       " 'https://importantdata@location/2021/04/08/',\n",
       " 'https://importantdata@location/2021/04/09/',\n",
       " 'https://importantdata@location/2021/04/10/']"
      ]
     },
     "execution_count": 29,
     "metadata": {},
     "output_type": "execute_result"
    }
   ],
   "source": [
    "date.generateLastDaysPaths(\"20210410\", 10)"
   ]
  }
 ],
 "metadata": {
  "kernelspec": {
   "display_name": "Python 3 (ipykernel)",
   "language": "python",
   "name": "python3"
  },
  "language_info": {
   "codemirror_mode": {
    "name": "ipython",
    "version": 3
   },
   "file_extension": ".py",
   "mimetype": "text/x-python",
   "name": "python",
   "nbconvert_exporter": "python",
   "pygments_lexer": "ipython3",
   "version": "3.10.6"
  }
 },
 "nbformat": 4,
 "nbformat_minor": 5
}
