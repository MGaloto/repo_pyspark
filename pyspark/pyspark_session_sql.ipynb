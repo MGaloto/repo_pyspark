{
 "cells": [
  {
   "cell_type": "markdown",
   "id": "91e70273-f79b-40ec-b9db-b3e1b7e84883",
   "metadata": {
    "tags": []
   },
   "source": [
    "<h1 align=\"center\">Pyspark Sql</h1>\n",
    "\n",
    "- [**Librerias**](#Librerias)\n",
    "- [**Funciones**](#Funciones)\n",
    "- [**Codigo**](#Codigo)"
   ]
  },
  {
   "cell_type": "markdown",
   "id": "f5d1fc33-e276-4b66-9e1b-9480ef1e4fdf",
   "metadata": {},
   "source": [
    "<html><h1 align=\"center\", style=\"background: #4777d1; color:white\">Librerias</h1></html>\n",
    "\n",
    "[**Volver al Inicio**](#Pyspark-Sql) "
   ]
  },
  {
   "cell_type": "code",
   "execution_count": null,
   "id": "9ba93063-7991-4d1a-9e83-3813c0d57fb9",
   "metadata": {},
   "outputs": [],
   "source": [
    "import os\n",
    "from pyspark.sql import SQLContext, SparkSession\n",
    "from pyspark.sql.functions import size, lit, explode, col, round, dense_rank, rank, desc\n",
    "from pyspark.sql.window import Window\n",
    "import json"
   ]
  },
  {
   "cell_type": "code",
   "execution_count": 2,
   "id": "8525a0d9-8b8b-4b75-baca-01e0f3421b4d",
   "metadata": {},
   "outputs": [
    {
     "name": "stderr",
     "output_type": "stream",
     "text": [
      "/usr/local/spark/python/pyspark/sql/context.py:112: FutureWarning: Deprecated in 3.0.0. Use SparkSession.builder.getOrCreate() instead.\n",
      "  warnings.warn(\n"
     ]
    }
   ],
   "source": [
    "pyspark_session_sql = SparkSession \\\n",
    "                    .builder \\\n",
    "                    .appName(\"spark_session_sql\") \\\n",
    "                    .config('spark.driver.memory', '6g') \\\n",
    "                    .getOrCreate()\n",
    "\n",
    "\n",
    "sqlcontext = SQLContext(pyspark_session_sql)"
   ]
  },
  {
   "cell_type": "markdown",
   "id": "b169518c-d8cd-4517-a077-ea4acc915cd3",
   "metadata": {},
   "source": [
    "<html><h1 align=\"center\", style=\"background: #4777d1; color:white\">Funciones</h1></html>\n",
    "\n",
    "[**Volver al Inicio**](#Pyspark-Sql) "
   ]
  },
  {
   "cell_type": "code",
   "execution_count": 3,
   "id": "6a27cb8b-2440-441e-8066-3e7315b109e0",
   "metadata": {},
   "outputs": [],
   "source": [
    "def get_csv_file(file, sep=None):\n",
    "    print(f'\\n\\x1b[1;33;40mRead {file} Data...\\x1b[0m\\n')\n",
    "    csv_file  = pyspark_session_sql.read.csv(file, header = True, sep = sep)\n",
    "    return csv_file\n",
    "\n",
    "def get_dataframe_table(context, data, table_name):\n",
    "    context.registerDataFrameAsTable(data, table_name)"
   ]
  },
  {
   "cell_type": "markdown",
   "id": "e99fcf13-cb30-4c09-a62a-3568b7c7fd12",
   "metadata": {},
   "source": [
    "<html><h1 align=\"center\", style=\"background: #4777d1; color:white\">Codigo</h1></html>\n",
    "\n",
    "[**Volver al Inicio**](#Pyspark-Sql) "
   ]
  },
  {
   "cell_type": "code",
   "execution_count": 4,
   "id": "209d480d-2da7-42b4-85af-0c6327e22415",
   "metadata": {},
   "outputs": [
    {
     "name": "stdout",
     "output_type": "stream",
     "text": [
      "\n",
      "\u001b[1;33;40mRead csvfiles/Person_StateProvince.csv Csv Data...\u001b[0m\n",
      "\n",
      "\n",
      "\u001b[1;33;40mRead csvfiles/Sales_SalesTaxRate.csv Csv Data...\u001b[0m\n",
      "\n"
     ]
    }
   ],
   "source": [
    "data_per = get_csv_file('csvfiles/Person_StateProvince.csv', sep = ';')\n",
    "data_sal = get_csv_file('csvfiles/Sales_SalesTaxRate.csv', sep = ';')"
   ]
  },
  {
   "cell_type": "code",
   "execution_count": 5,
   "id": "b9adb8e9-14bb-4f7a-8270-6336748f7fa5",
   "metadata": {},
   "outputs": [],
   "source": [
    "get_dataframe_table(sqlcontext, data_per, \"data_per\")\n",
    "get_dataframe_table(sqlcontext, data_sal, \"data_sal\")"
   ]
  },
  {
   "cell_type": "code",
   "execution_count": 6,
   "id": "8c9f2a30-a134-4b26-9e6c-2be7d453e2cf",
   "metadata": {},
   "outputs": [
    {
     "name": "stdout",
     "output_type": "stream",
     "text": [
      "+-----------------+---------------+\n",
      "|CountryRegionCode|average_taxRate|\n",
      "+-----------------+---------------+\n",
      "|               AU|           10.0|\n",
      "|               CA|         8.4333|\n",
      "|               DE|           16.0|\n",
      "|               FR|           19.6|\n",
      "|               GB|           17.5|\n",
      "|               US|          7.405|\n",
      "+-----------------+---------------+\n",
      "\n"
     ]
    }
   ],
   "source": [
    "table_avg_tax = sqlcontext.sql('''WITH table_avg_tax AS (\n",
    "                                   SELECT data_sal.StateProvinceID, data_sal.TaxRate, data_per.StateProvinceID, data_per.CountryRegionCode\n",
    "                                   FROM data_sal \n",
    "                                   LEFT JOIN data_per \n",
    "                                   ON data_sal.StateProvinceID = data_per.StateProvinceID)\n",
    "                                SELECT table_avg_tax.CountryRegionCode, ROUND(AVG(REPLACE(table_avg_tax.TaxRate,',','.')),4) AS average_taxRate \n",
    "                                FROM table_avg_tax \n",
    "                                GROUP BY table_avg_tax.CountryRegionCode\n",
    "                                ORDER BY table_avg_tax.CountryRegionCode''')\n",
    "table_avg_tax.show()"
   ]
  },
  {
   "cell_type": "code",
   "execution_count": 7,
   "id": "69fe3702-f93c-4204-89c1-6604d1590984",
   "metadata": {},
   "outputs": [
    {
     "name": "stdout",
     "output_type": "stream",
     "text": [
      "\n",
      "\u001b[1;33;40mRead csvfiles/Sales_CountryRegionCurrency.csv Csv Data...\u001b[0m\n",
      "\n",
      "\n",
      "\u001b[1;33;40mRead csvfiles/Person_CountryRegion.csv Csv Data...\u001b[0m\n",
      "\n",
      "\n",
      "\u001b[1;33;40mRead csvfiles/Sales_CurrencyRate.csv Csv Data...\u001b[0m\n",
      "\n",
      "\n",
      "\u001b[1;33;40mRead csvfiles/Sales_Currency.csv Csv Data...\u001b[0m\n",
      "\n"
     ]
    }
   ],
   "source": [
    "data_country = get_csv_file('csvfiles/Sales_CountryRegionCurrency.csv', sep = ';')\n",
    "data_country_reg = get_csv_file('csvfiles/Person_CountryRegion.csv', sep = ';')\n",
    "data_currency_rate = get_csv_file('csvfiles/Sales_CurrencyRate.csv', sep = ';')\n",
    "data_currency = get_csv_file('csvfiles/Sales_Currency.csv', sep = ';')"
   ]
  },
  {
   "cell_type": "code",
   "execution_count": 8,
   "id": "468c2557-aee6-4128-93ba-1cc1c0f017de",
   "metadata": {},
   "outputs": [
    {
     "name": "stdout",
     "output_type": "stream",
     "text": [
      "+--------------+--------------------+-------------+----------------+\n",
      "|  country_name|       currency_name|currency_rate|average_tax_rate|\n",
      "+--------------+--------------------+-------------+----------------+\n",
      "|     Australia|   Australian Dollar|         2.09|            10.0|\n",
      "|        Canada|     Canadian Dollar|         1.62|            8.43|\n",
      "|        France|        French Franc|         7.37|            19.6|\n",
      "|        France|                EURO|         1.21|            19.6|\n",
      "|       Germany|       Deutsche Mark|          2.2|            16.0|\n",
      "|       Germany|                EURO|         1.21|            16.0|\n",
      "|United Kingdom|United Kingdom Pound|         0.73|            17.5|\n",
      "| United States|           US Dollar|          1.0|            7.41|\n",
      "+--------------+--------------------+-------------+----------------+\n",
      "\n"
     ]
    }
   ],
   "source": [
    "get_dataframe_table(sqlcontext, data_country_reg, \"data_country_reg\")\n",
    "get_dataframe_table(sqlcontext, data_country, \"data_country\")\n",
    "get_dataframe_table(sqlcontext, data_currency, \"data_currency\")\n",
    "get_dataframe_table(sqlcontext, data_currency_rate, \"data_currency_rate\")\n",
    "\n",
    "querypy = sqlcontext.sql('''WITH tablefinal AS (\n",
    "                                SELECT data_country_reg.Name, \n",
    "                                      data_country_reg.CountryRegionCode, \n",
    "                                      data_country.CurrencyCode,\n",
    "                                      data_currency.Name AS currency_name,\n",
    "                                      data_currency_rate.AverageRate,\n",
    "                                      data_per.StateProvinceID,\n",
    "                                      data_sal.TaxRate \n",
    "                               FROM data_country_reg \n",
    "                               INNER JOIN data_country \n",
    "                               ON data_country_reg.CountryRegionCode = data_country.CountryRegionCode\n",
    "                               INNER JOIN data_currency\n",
    "                               ON data_country.CurrencyCode = data_currency.CurrencyCode\n",
    "                               INNER JOIN data_currency_rate\n",
    "                               ON data_country.CurrencyCode = data_currency_rate.ToCurrencyCode\n",
    "                               INNER JOIN data_per\n",
    "                               ON data_country.CountryRegionCode = data_per.CountryRegionCode\n",
    "                               INNER JOIN data_sal\n",
    "                               ON data_per.StateProvinceID = data_sal.StateProvinceID)\n",
    "                            SELECT tablefinal.Name AS country_name,\n",
    "                                   tablefinal.currency_name AS currency_name,\n",
    "                                   MAX(ROUND(REPLACE(tablefinal.AverageRate,',','.'),2)) AS currency_rate,\n",
    "                                   ROUND(AVG(REPLACE(tablefinal.TaxRate,',','.')),2) AS average_tax_rate\n",
    "                            FROM tablefinal\n",
    "                            GROUP BY tablefinal.Name, tablefinal.currency_name\n",
    "                            ORDER BY tablefinal.Name''')\n",
    "querypy.show(15)"
   ]
  },
  {
   "cell_type": "code",
   "execution_count": 9,
   "id": "a1ec6a18-b153-444d-ac31-1b9dccfbb86b",
   "metadata": {},
   "outputs": [],
   "source": [
    "pyspark_session_sql.stop()"
   ]
  }
 ],
 "metadata": {
  "kernelspec": {
   "display_name": "Python 3 (ipykernel)",
   "language": "python",
   "name": "python3"
  },
  "language_info": {
   "codemirror_mode": {
    "name": "ipython",
    "version": 3
   },
   "file_extension": ".py",
   "mimetype": "text/x-python",
   "name": "python",
   "nbconvert_exporter": "python",
   "pygments_lexer": "ipython3",
   "version": "3.10.6"
  }
 },
 "nbformat": 4,
 "nbformat_minor": 5
}
