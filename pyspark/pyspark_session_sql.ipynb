{
 "cells": [
  {
   "cell_type": "code",
   "execution_count": 1,
   "id": "74bfcd61-e03c-4fab-8174-096a9e098807",
   "metadata": {},
   "outputs": [],
   "source": [
    "import os\n",
    "import time\n",
    "from pyspark.sql.utils import AnalysisException\n",
    "from pyspark.sql.dataframe import DataFrame\n",
    "from pyspark.sql import SQLContext, DataFrame, SparkSession\n",
    "from pyspark.sql.functions import size, lit, explode, col, round, dense_rank, rank, desc\n",
    "from pyspark.sql.window import Window\n",
    "import json\n",
    "from functools import reduce"
   ]
  },
  {
   "cell_type": "code",
   "execution_count": 2,
   "id": "8525a0d9-8b8b-4b75-baca-01e0f3421b4d",
   "metadata": {},
   "outputs": [
    {
     "name": "stderr",
     "output_type": "stream",
     "text": [
      "/usr/local/spark/python/pyspark/sql/context.py:112: FutureWarning: Deprecated in 3.0.0. Use SparkSession.builder.getOrCreate() instead.\n",
      "  warnings.warn(\n"
     ]
    }
   ],
   "source": [
    "pyspark_session_sql = SparkSession \\\n",
    "                    .builder \\\n",
    "                    .appName(\"spark_session_sql\") \\\n",
    "                    .config('spark.driver.memory', '6g') \\\n",
    "                    .getOrCreate()\n",
    "\n",
    "\n",
    "sqlcontext = SQLContext(pyspark_session_sql)"
   ]
  },
  {
   "cell_type": "code",
   "execution_count": 3,
   "id": "6a27cb8b-2440-441e-8066-3e7315b109e0",
   "metadata": {},
   "outputs": [],
   "source": [
    "def get_csv_file(file, sep=None):\n",
    "    print('\\n\\x1b[1;33;40mRead Csv Data...\\x1b[0m\\n')\n",
    "    csv_file  = pyspark_session_sql.read.csv(file, header = True, sep = sep)\n",
    "    return csv_file\n",
    "\n",
    "def get_dataframe_table(context, data, table_name):\n",
    "    context.registerDataFrameAsTable(data, table_name)"
   ]
  },
  {
   "cell_type": "code",
   "execution_count": 4,
   "id": "209d480d-2da7-42b4-85af-0c6327e22415",
   "metadata": {},
   "outputs": [
    {
     "name": "stdout",
     "output_type": "stream",
     "text": [
      "\n",
      "\u001b[1;33;40mRead Csv Data...\u001b[0m\n",
      "\n",
      "+---------------+-----------------+-----------------+-----------------------+--------------+-----------+--------------------+--------------------+\n",
      "|StateProvinceID|StateProvinceCode|CountryRegionCode|IsOnlyStateProvinceFlag|          Name|TerritoryID|             rowguid|        ModifiedDate|\n",
      "+---------------+-----------------+-----------------+-----------------------+--------------+-----------+--------------------+--------------------+\n",
      "|              1|              AB |               CA|                      0|       Alberta|          6|298C2880-AB1C-498...|2014-02-08 10:17:...|\n",
      "|              2|              AK |               US|                      0|        Alaska|          1|5B7B8462-A888-4E0...|2014-02-08 10:17:...|\n",
      "|              3|              AL |               US|                      0|       Alabama|          5|41B328BE-21AE-45D...|2014-02-08 10:17:...|\n",
      "|              4|              AR |               US|                      0|      Arkansas|          3|54656A80-06F2-4C7...|2014-02-08 10:17:...|\n",
      "|              5|              AS |               AS|                      1|American Samoa|          1|255D15E1-9F6E-4CF...|2014-02-08 10:17:...|\n",
      "+---------------+-----------------+-----------------+-----------------------+--------------+-----------+--------------------+--------------------+\n",
      "only showing top 5 rows\n",
      "\n"
     ]
    }
   ],
   "source": [
    "data_per = get_csv_file('csvfiles/Person_StateProvince.csv', sep = ';')\n",
    "data_per.show(5)"
   ]
  },
  {
   "cell_type": "code",
   "execution_count": 5,
   "id": "563ed640-871f-4427-b53d-28b4c5dc3595",
   "metadata": {},
   "outputs": [
    {
     "name": "stdout",
     "output_type": "stream",
     "text": [
      "\n",
      "\u001b[1;33;40mRead Csv Data...\u001b[0m\n",
      "\n",
      "+--------------+---------------+-------+-------+--------------------+--------------------+--------------------+\n",
      "|SalesTaxRateID|StateProvinceID|TaxType|TaxRate|                Name|             rowguid|        ModifiedDate|\n",
      "+--------------+---------------+-------+-------+--------------------+--------------------+--------------------+\n",
      "|             1|              1|      1|  14,00|Canadian GST + Al...|683DE5DD-521A-47D...|2008-04-30 00:00:...|\n",
      "|             2|             57|      1|  14,25|Canadian GST + On...|05C4FFDB-4F84-4CD...|2008-04-30 00:00:...|\n",
      "|             3|             63|      1|  14,25|Canadian GST + Qu...|D4EDB557-56D7-403...|2008-04-30 00:00:...|\n",
      "|             4|              1|      2|   7,00|        Canadian GST|F0D76907-B433-453...|2008-04-30 00:00:...|\n",
      "|             5|             57|      2|   7,00|        Canadian GST|7E0E97A2-878B-476...|2008-04-30 00:00:...|\n",
      "+--------------+---------------+-------+-------+--------------------+--------------------+--------------------+\n",
      "only showing top 5 rows\n",
      "\n"
     ]
    }
   ],
   "source": [
    "data_sal = get_csv_file('csvfiles/Sales_SalesTaxRate.csv', sep = ';')\n",
    "data_sal.show(5)"
   ]
  },
  {
   "cell_type": "code",
   "execution_count": 6,
   "id": "b9adb8e9-14bb-4f7a-8270-6336748f7fa5",
   "metadata": {},
   "outputs": [],
   "source": [
    "get_dataframe_table(sqlcontext, data_per, \"data_per\")\n",
    "get_dataframe_table(sqlcontext, data_sal, \"data_sal\")"
   ]
  },
  {
   "cell_type": "code",
   "execution_count": 7,
   "id": "8c9f2a30-a134-4b26-9e6c-2be7d453e2cf",
   "metadata": {},
   "outputs": [
    {
     "name": "stdout",
     "output_type": "stream",
     "text": [
      "+-----------------+---------------+\n",
      "|CountryRegionCode|average_taxRate|\n",
      "+-----------------+---------------+\n",
      "|               AU|           10.0|\n",
      "|               CA|         8.4333|\n",
      "|               DE|           16.0|\n",
      "|               FR|           19.6|\n",
      "|               GB|           17.5|\n",
      "|               US|          7.405|\n",
      "+-----------------+---------------+\n",
      "\n"
     ]
    }
   ],
   "source": [
    "table_avg_tax = sqlcontext.sql('''WITH table_avg_tax AS (\n",
    "                                   SELECT data_sal.StateProvinceID, data_sal.TaxRate, data_per.StateProvinceID, data_per.CountryRegionCode\n",
    "                                   FROM data_sal \n",
    "                                   LEFT JOIN data_per \n",
    "                                   ON data_sal.StateProvinceID = data_per.StateProvinceID)\n",
    "                                SELECT table_avg_tax.CountryRegionCode, ROUND(AVG(REPLACE(table_avg_tax.TaxRate,',','.')),4) AS average_taxRate \n",
    "                                FROM table_avg_tax \n",
    "                                GROUP BY table_avg_tax.CountryRegionCode\n",
    "                                ORDER BY table_avg_tax.CountryRegionCode''')\n",
    "table_avg_tax.show()"
   ]
  },
  {
   "cell_type": "code",
   "execution_count": 8,
   "id": "69fe3702-f93c-4204-89c1-6604d1590984",
   "metadata": {},
   "outputs": [
    {
     "name": "stdout",
     "output_type": "stream",
     "text": [
      "\n",
      "\u001b[1;33;40mRead Csv Data...\u001b[0m\n",
      "\n",
      "+-----------------+------------+--------------------+\n",
      "|CountryRegionCode|CurrencyCode|        ModifiedDate|\n",
      "+-----------------+------------+--------------------+\n",
      "|               AE|         AED|2014-02-08 10:17:...|\n",
      "|               AR|         ARS|2014-02-08 10:17:...|\n",
      "|               AT|         ATS|2014-02-08 10:17:...|\n",
      "|               AT|         EUR|2008-04-30 00:00:...|\n",
      "|               AU|         AUD|2014-02-08 10:17:...|\n",
      "+-----------------+------------+--------------------+\n",
      "only showing top 5 rows\n",
      "\n"
     ]
    }
   ],
   "source": [
    "data_country = get_csv_file('csvfiles/Sales_CountryRegionCurrency.csv', sep = ';')\n",
    "data_country.show(5)"
   ]
  },
  {
   "cell_type": "code",
   "execution_count": 9,
   "id": "34012596-5b1d-4d11-a4b5-0e0bbb00dfa7",
   "metadata": {},
   "outputs": [
    {
     "name": "stdout",
     "output_type": "stream",
     "text": [
      "\n",
      "\u001b[1;33;40mRead Csv Data...\u001b[0m\n",
      "\n",
      "+-----------------+--------------------+--------------------+\n",
      "|CountryRegionCode|                Name|        ModifiedDate|\n",
      "+-----------------+--------------------+--------------------+\n",
      "|               AD|             Andorra|2008-04-30 00:00:...|\n",
      "|               AE|United Arab Emirates|2008-04-30 00:00:...|\n",
      "|               AF|         Afghanistan|2008-04-30 00:00:...|\n",
      "|               AG| Antigua and Barbuda|2008-04-30 00:00:...|\n",
      "|               AI|            Anguilla|2008-04-30 00:00:...|\n",
      "+-----------------+--------------------+--------------------+\n",
      "only showing top 5 rows\n",
      "\n"
     ]
    }
   ],
   "source": [
    "data_country_reg = get_csv_file('csvfiles/Person_CountryRegion.csv', sep = ';')\n",
    "data_country_reg.show(5)"
   ]
  },
  {
   "cell_type": "code",
   "execution_count": 10,
   "id": "4d20953d-1d1b-4da7-8a9d-af4df90a5cfb",
   "metadata": {},
   "outputs": [
    {
     "name": "stdout",
     "output_type": "stream",
     "text": [
      "\n",
      "\u001b[1;33;40mRead Csv Data...\u001b[0m\n",
      "\n",
      "+--------------+--------------------+----------------+--------------+-----------+------------+--------------------+\n",
      "|CurrencyRateID|    CurrencyRateDate|FromCurrencyCode|ToCurrencyCode|AverageRate|EndOfDayRate|        ModifiedDate|\n",
      "+--------------+--------------------+----------------+--------------+-----------+------------+--------------------+\n",
      "|             1|2011-05-31 00:00:...|             USD|           ARS|       1,00|      1,0002|2011-05-31 00:00:...|\n",
      "|             2|2011-05-31 00:00:...|             USD|           AUD|     1,5491|        1,55|2011-05-31 00:00:...|\n",
      "|             3|2011-05-31 00:00:...|             USD|           BRL|     1,9379|      1,9419|2011-05-31 00:00:...|\n",
      "|             4|2011-05-31 00:00:...|             USD|           CAD|     1,4641|      1,4683|2011-05-31 00:00:...|\n",
      "|             5|2011-05-31 00:00:...|             USD|           CNY|     8,2781|      8,2784|2011-05-31 00:00:...|\n",
      "+--------------+--------------------+----------------+--------------+-----------+------------+--------------------+\n",
      "only showing top 5 rows\n",
      "\n"
     ]
    }
   ],
   "source": [
    "data_currency_rate = get_csv_file('csvfiles/Sales_CurrencyRate.csv', sep = ';')\n",
    "data_currency_rate.show(5)"
   ]
  },
  {
   "cell_type": "code",
   "execution_count": 11,
   "id": "817634a3-b51c-4703-b0df-e834c90a422a",
   "metadata": {},
   "outputs": [
    {
     "name": "stdout",
     "output_type": "stream",
     "text": [
      "\n",
      "\u001b[1;33;40mRead Csv Data...\u001b[0m\n",
      "\n",
      "+------------+--------------------+--------------------+\n",
      "|CurrencyCode|                Name|        ModifiedDate|\n",
      "+------------+--------------------+--------------------+\n",
      "|         AED|      Emirati Dirham|2008-04-30 00:00:...|\n",
      "|         AFA|             Afghani|2008-04-30 00:00:...|\n",
      "|         ALL|                 Lek|2008-04-30 00:00:...|\n",
      "|         AMD|       Armenian Dram|2008-04-30 00:00:...|\n",
      "|         ANG|Netherlands Antil...|2008-04-30 00:00:...|\n",
      "+------------+--------------------+--------------------+\n",
      "only showing top 5 rows\n",
      "\n"
     ]
    }
   ],
   "source": [
    "data_currency = get_csv_file('csvfiles/Sales_Currency.csv', sep = ';')\n",
    "data_currency.show(5)"
   ]
  },
  {
   "cell_type": "code",
   "execution_count": 12,
   "id": "468c2557-aee6-4128-93ba-1cc1c0f017de",
   "metadata": {},
   "outputs": [
    {
     "name": "stdout",
     "output_type": "stream",
     "text": [
      "+--------------+--------------------+-------------+----------------+\n",
      "|  country_name|       currency_name|currency_rate|average_tax_rate|\n",
      "+--------------+--------------------+-------------+----------------+\n",
      "|     Australia|   Australian Dollar|         2.09|            10.0|\n",
      "|        Canada|     Canadian Dollar|         1.62|            8.43|\n",
      "|        France|        French Franc|         7.37|            19.6|\n",
      "|        France|                EURO|         1.21|            19.6|\n",
      "|       Germany|       Deutsche Mark|          2.2|            16.0|\n",
      "|       Germany|                EURO|         1.21|            16.0|\n",
      "|United Kingdom|United Kingdom Pound|         0.73|            17.5|\n",
      "| United States|           US Dollar|          1.0|            7.41|\n",
      "+--------------+--------------------+-------------+----------------+\n",
      "\n"
     ]
    }
   ],
   "source": [
    "get_dataframe_table(sqlcontext, data_country_reg, \"data_country_reg\")\n",
    "get_dataframe_table(sqlcontext, data_country, \"data_country\")\n",
    "get_dataframe_table(sqlcontext, data_currency, \"data_currency\")\n",
    "get_dataframe_table(sqlcontext, data_currency_rate, \"data_currency_rate\")\n",
    "\n",
    "querypy = sqlcontext.sql('''WITH tablefinal AS (\n",
    "                                SELECT data_country_reg.Name, \n",
    "                                      data_country_reg.CountryRegionCode, \n",
    "                                      data_country.CurrencyCode,\n",
    "                                      data_currency.Name AS currency_name,\n",
    "                                      data_currency_rate.AverageRate,\n",
    "                                      data_per.StateProvinceID,\n",
    "                                      data_sal.TaxRate \n",
    "                               FROM data_country_reg \n",
    "                               INNER JOIN data_country \n",
    "                               ON data_country_reg.CountryRegionCode = data_country.CountryRegionCode\n",
    "                               INNER JOIN data_currency\n",
    "                               ON data_country.CurrencyCode = data_currency.CurrencyCode\n",
    "                               INNER JOIN data_currency_rate\n",
    "                               ON data_country.CurrencyCode = data_currency_rate.ToCurrencyCode\n",
    "                               INNER JOIN data_per\n",
    "                               ON data_country.CountryRegionCode = data_per.CountryRegionCode\n",
    "                               INNER JOIN data_sal\n",
    "                               ON data_per.StateProvinceID = data_sal.StateProvinceID)\n",
    "                            SELECT tablefinal.Name AS country_name,\n",
    "                                   tablefinal.currency_name AS currency_name,\n",
    "                                   MAX(ROUND(REPLACE(tablefinal.AverageRate,',','.'),2)) AS currency_rate,\n",
    "                                   ROUND(AVG(REPLACE(tablefinal.TaxRate,',','.')),2) AS average_tax_rate\n",
    "                            FROM tablefinal\n",
    "                            GROUP BY tablefinal.Name, tablefinal.currency_name\n",
    "                            ORDER BY tablefinal.Name''')\n",
    "querypy.show(15)"
   ]
  },
  {
   "cell_type": "code",
   "execution_count": 13,
   "id": "a1ec6a18-b153-444d-ac31-1b9dccfbb86b",
   "metadata": {},
   "outputs": [],
   "source": [
    "pyspark_session_sql.stop()"
   ]
  }
 ],
 "metadata": {
  "kernelspec": {
   "display_name": "Python 3 (ipykernel)",
   "language": "python",
   "name": "python3"
  },
  "language_info": {
   "codemirror_mode": {
    "name": "ipython",
    "version": 3
   },
   "file_extension": ".py",
   "mimetype": "text/x-python",
   "name": "python",
   "nbconvert_exporter": "python",
   "pygments_lexer": "ipython3",
   "version": "3.10.6"
  }
 },
 "nbformat": 4,
 "nbformat_minor": 5
}
